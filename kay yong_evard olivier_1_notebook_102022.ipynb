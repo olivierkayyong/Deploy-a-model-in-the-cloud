{
 "cells": [
  {
   "cell_type": "markdown",
   "id": "72180cf9",
   "metadata": {},
   "source": [
    "## Énoncé\n",
    "Data Scientist dans une très jeune start-up de l'AgriTech, nommée \"Fruits!\", qui cherche à proposer des solutions innovantes pour la récolte des fruits.\n",
    "La start-up souhaite dans un premier temps se faire connaître en mettant à disposition du grand public une application mobile qui permettrait aux utilisateurs de prendre en photo un fruit et d'obtenir des informations sur ce fruit.\n",
    "## Mission\n",
    "Notre mission consiste à développer dans un environnement Big Data une première chaîne de traitement des données qui comprendra le preprocessing et une étape de réduction de dimension."
   ]
  },
  {
   "cell_type": "markdown",
   "id": "02bfb94c",
   "metadata": {},
   "source": [
    "### Chargement des librairies"
   ]
  },
  {
   "cell_type": "code",
   "execution_count": 2,
   "id": "950d7f9e",
   "metadata": {},
   "outputs": [],
   "source": [
    "# spark initialisation\n",
    "import findspark\n",
    "findspark.init(\"/home/ubuntu/spark-3.3.0-bin-hadoop3\")\n",
    "import pyspark\n",
    "import pyarrow\n",
    "# context & session\n",
    "from pyspark import SparkContext\n",
    "from pyspark import SparkConf\n",
    "from pyspark.sql import SparkSession\n",
    "# usefull packages\n",
    "import pandas as pd\n",
    "import numpy as np\n",
    "import random\n",
    "import time\n",
    "import os\n",
    "# deal with image\n",
    "from PIL import Image\n",
    "# data handling\n",
    "from pyspark.sql.functions import element_at, split, col,size\n",
    "from pyspark.sql.functions import pandas_udf, PandasUDFType, udf\n",
    "from pyspark.sql.types import *\n",
    "from pyspark.sql.functions import monotonically_increasing_id, row_number\n",
    "from pyspark.sql import Window\n",
    "from typing import Iterator\n",
    "# ml tasks\n",
    "from pyspark.ml.image import ImageSchema\n",
    "from pyspark.ml.feature import VectorAssembler\n",
    "from pyspark.ml.feature import PCA\n",
    "# transform\n",
    "from pyspark.ml.linalg import Vectors, VectorUDT\n",
    "# core featurizer\n",
    "import tensorflow as tf\n",
    "from tensorflow.keras.applications.vgg16 import VGG16, preprocess_input\n",
    "from tensorflow.keras.preprocessing.image import img_to_array, load_img"
   ]
  },
  {
   "cell_type": "markdown",
   "id": "a8e2f890",
   "metadata": {},
   "source": [
    "### Spark configuration"
   ]
  },
  {
   "cell_type": "markdown",
   "id": "a83ad261",
   "metadata": {},
   "source": [
    "Définissons une configuration pour permettre à spark de lire les images depuis S3:"
   ]
  },
  {
   "cell_type": "markdown",
   "id": "8929d352",
   "metadata": {},
   "source": [
    " Tout d'abord, définissons une fonction pour charger les clés d'accès à AWS:"
   ]
  },
  {
   "cell_type": "code",
   "execution_count": 3,
   "id": "8961a81c",
   "metadata": {},
   "outputs": [],
   "source": [
    "def load_aws_key():\n",
    "    '''Function that loads ID/KEY of AWS in environment variables \n",
    "    from keys.txt file'''\n",
    "    with open('keys.txt','r') as f:\n",
    "        msg = f.read()\n",
    "    ID = str(msg).split('\\n')[0]\n",
    "    KEY = msg.split('\\n')[1]\n",
    "    os.environ[\"AWS_ACCESS_KEY_ID\"]=ID\n",
    "    os.environ[\"AWS_SECRET_ACCESS_KEY\"]=KEY\n",
    "    return ID, KEY"
   ]
  },
  {
   "cell_type": "markdown",
   "id": "b35af3f7",
   "metadata": {},
   "source": [
    "Récuperons les clès d'accès à AWS:"
   ]
  },
  {
   "cell_type": "code",
   "execution_count": 4,
   "id": "11a8f2ce",
   "metadata": {},
   "outputs": [],
   "source": [
    "AWS_ACCESS_KEY_ID,AWS_SECRET_ACCESS_KEY=load_aws_key()"
   ]
  },
  {
   "cell_type": "markdown",
   "id": "e9f9fa86",
   "metadata": {},
   "source": [
    "Configurons spark pour la lecture des fichiers dans AWS:"
   ]
  },
  {
   "cell_type": "code",
   "execution_count": 5,
   "id": "91b09e46",
   "metadata": {},
   "outputs": [
    {
     "data": {
      "text/plain": [
       "<pyspark.conf.SparkConf at 0x7f6b5811a550>"
      ]
     },
     "execution_count": 5,
     "metadata": {},
     "output_type": "execute_result"
    }
   ],
   "source": [
    "conf=SparkConf()\n",
    "conf.set('spark.jars.packages','org.apache.hadoop:hadoop-aws:3.3.2')\n",
    "conf.set('spark.executor.extraJavaOptions','-Dcom.amazonaws.services.s3.enableV4=true')\n",
    "conf.set('spark.driver.extraJavaOptions','-Dcom.amazonaws.services.s3.enableV4=true')\n",
    "conf.set(\"spark.hadoop.fs.s3a.aws.access.key\", AWS_ACCESS_KEY_ID)\n",
    "conf.set(\"spark.hadoop.fs.s3a.aws.secret.key\", AWS_SECRET_ACCESS_KEY)\n",
    "conf.set('spark.hadoop.fs.s3a.impl', 'org.apache.hadoop.fs.s3a.S3AFileSystem')\n",
    "conf.set(\"fs.s3a.endpoint\", \"s3-eu-west-1.amazonaws.com\")"
   ]
  },
  {
   "cell_type": "markdown",
   "id": "f92d1313",
   "metadata": {},
   "source": [
    "### Spark session"
   ]
  },
  {
   "cell_type": "markdown",
   "id": "c56e83ee",
   "metadata": {},
   "source": [
    "Initialisons notre spark session:"
   ]
  },
  {
   "cell_type": "code",
   "execution_count": 7,
   "id": "3d31b59f",
   "metadata": {},
   "outputs": [],
   "source": [
    "spark = SparkSession.builder.config(conf=conf).appName('Projet8').getOrCreate()\n",
    "spark._sc.setSystemProperty(\"com.amazonaws.services.s3.enableV4\", \"true\")"
   ]
  },
  {
   "cell_type": "markdown",
   "id": "deb4dd0c",
   "metadata": {},
   "source": [
    "Visualisons la session Spark initialisé:"
   ]
  },
  {
   "cell_type": "code",
   "execution_count": 8,
   "id": "fa3db5c6",
   "metadata": {},
   "outputs": [
    {
     "data": {
      "text/html": [
       "\n",
       "            <div>\n",
       "                <p><b>SparkSession - in-memory</b></p>\n",
       "                \n",
       "        <div>\n",
       "            <p><b>SparkContext</b></p>\n",
       "\n",
       "            <p><a href=\"http://10.0.2.15:4041\">Spark UI</a></p>\n",
       "\n",
       "            <dl>\n",
       "              <dt>Version</dt>\n",
       "                <dd><code>v3.3.0</code></dd>\n",
       "              <dt>Master</dt>\n",
       "                <dd><code>local[*]</code></dd>\n",
       "              <dt>AppName</dt>\n",
       "                <dd><code>Projet8</code></dd>\n",
       "            </dl>\n",
       "        </div>\n",
       "        \n",
       "            </div>\n",
       "        "
      ],
      "text/plain": [
       "<pyspark.sql.session.SparkSession at 0x7f6b578c82e0>"
      ]
     },
     "execution_count": 8,
     "metadata": {},
     "output_type": "execute_result"
    }
   ],
   "source": [
    "spark"
   ]
  },
  {
   "cell_type": "markdown",
   "id": "84d49323",
   "metadata": {},
   "source": [
    "### AWS S3 resources"
   ]
  },
  {
   "cell_type": "markdown",
   "id": "29c76810",
   "metadata": {},
   "source": [
    "Obtenons l'accès aux ressources de S3 via boto3:"
   ]
  },
  {
   "cell_type": "code",
   "execution_count": 9,
   "id": "7862f25e",
   "metadata": {},
   "outputs": [],
   "source": [
    "import boto3\n",
    "s3 = boto3.resource('s3')"
   ]
  },
  {
   "cell_type": "markdown",
   "id": "b1a8ebeb",
   "metadata": {},
   "source": [
    "Définissons une fonction pour afficher les buckets presents s3:"
   ]
  },
  {
   "cell_type": "code",
   "execution_count": 10,
   "id": "87cb1d7a",
   "metadata": {},
   "outputs": [],
   "source": [
    "def list_buckets(ressource):\n",
    "    \"\"\"Print all existing buckets names\"\"\"\n",
    "    for bucket in ressource.buckets.all():\n",
    "        print(bucket.name)"
   ]
  },
  {
   "cell_type": "markdown",
   "id": "8228ddd2",
   "metadata": {},
   "source": [
    "Affichons les buckets présents dans S3:"
   ]
  },
  {
   "cell_type": "code",
   "execution_count": 11,
   "id": "b2918306",
   "metadata": {},
   "outputs": [
    {
     "name": "stdout",
     "output_type": "stream",
     "text": [
      "elasticbeanstalk-us-east-2-017246177437\n",
      "olivierfruitsdataset\n"
     ]
    }
   ],
   "source": [
    "list_buckets(s3)"
   ]
  },
  {
   "cell_type": "markdown",
   "id": "214420bf",
   "metadata": {},
   "source": [
    "## Pre-processing des images"
   ]
  },
  {
   "cell_type": "markdown",
   "id": "de48a15a",
   "metadata": {},
   "source": [
    "### Chargement  des catégories de fruits"
   ]
  },
  {
   "cell_type": "markdown",
   "id": "24f5e5ef",
   "metadata": {},
   "source": [
    "Définissons des fonctions pour lister de tous repertoires contenant les images:"
   ]
  },
  {
   "cell_type": "code",
   "execution_count": 12,
   "id": "2a923b79",
   "metadata": {},
   "outputs": [],
   "source": [
    "def list_categories(bucket, prefix):\n",
    "    \"\"\"Function to create a list of all directories containing the image.\"\"\"\n",
    "    client=boto3.client('s3')\n",
    "    sub_folders =[]\n",
    "    result=client.list_objects(Bucket=bucket ,Prefix=prefix, Delimiter='/')\n",
    "    for o in result.get('CommonPrefixes'):\n",
    "        sub_folders.append(list(o.get('Prefix').split(\" \")))\n",
    "    print(\"Number of images's category is:\", len(sub_folders))\n",
    "    return sub_folders"
   ]
  },
  {
   "cell_type": "markdown",
   "id": "d864245b",
   "metadata": {},
   "source": [
    "Affichons les repertoires contenant les images:"
   ]
  },
  {
   "cell_type": "code",
   "execution_count": 13,
   "id": "2aa7e8fa",
   "metadata": {},
   "outputs": [
    {
     "name": "stdout",
     "output_type": "stream",
     "text": [
      "Number of images's category is: 11\n"
     ]
    },
    {
     "data": {
      "text/plain": [
       "[['dataset_images/Apricot/'],\n",
       " ['dataset_images/Avocado/'],\n",
       " ['dataset_images/Clementine/'],\n",
       " ['dataset_images/Cocos/'],\n",
       " ['dataset_images/Corn/'],\n",
       " ['dataset_images/Kaki/'],\n",
       " ['dataset_images/Pear/'],\n",
       " ['dataset_images/Pepino/'],\n",
       " ['dataset_images/Physalis/'],\n",
       " ['dataset_images/Redcurrant/'],\n",
       " ['dataset_images/Watermelon/']]"
      ]
     },
     "execution_count": 13,
     "metadata": {},
     "output_type": "execute_result"
    }
   ],
   "source": [
    "bucket='olivierfruitsdataset'\n",
    "prefix=\"dataset_images/\"\n",
    "list_cat = list_categories(bucket, prefix)\n",
    "list_cat"
   ]
  },
  {
   "cell_type": "markdown",
   "id": "c7951f31",
   "metadata": {},
   "source": [
    "#### Choix  aléatoire d'une catégorie de fruits"
   ]
  },
  {
   "cell_type": "markdown",
   "id": "0caf0f51",
   "metadata": {},
   "source": [
    "Afin de tester notre architecture,choissions de maniére aléatoire une catégorie de fruits:"
   ]
  },
  {
   "cell_type": "code",
   "execution_count": 21,
   "id": "971e8265",
   "metadata": {},
   "outputs": [
    {
     "data": {
      "text/plain": [
       "'dataset_images/Clementine/'"
      ]
     },
     "execution_count": 21,
     "metadata": {},
     "output_type": "execute_result"
    }
   ],
   "source": [
    "fruit_category = random.choice(list_cat)[0]\n",
    "fruit_category"
   ]
  },
  {
   "cell_type": "markdown",
   "id": "a1fddf08",
   "metadata": {},
   "source": [
    "### Chargement des images"
   ]
  },
  {
   "cell_type": "markdown",
   "id": "b412bd4b",
   "metadata": {},
   "source": [
    "Définissons une fonction pour lire les images de la catégorie choisie depuis S3 et renvoyer un spark dataframe des images en comptant le nombre d'images contenu dans le fichier et afficher un aperçu du spark dataframe:"
   ]
  },
  {
   "cell_type": "code",
   "execution_count": 22,
   "id": "8e36523e",
   "metadata": {},
   "outputs": [],
   "source": [
    "def load_image(path_image):\n",
    "    \"\"\"function that reads the images in a given directory and returns \n",
    "    a spark dataframe of the images then print operation's time and\n",
    "    the number of images,an overview of dataframe.\"\"\"\n",
    "    start = time.perf_counter()\n",
    "    df_img = spark.read.format('image').load(path_image, inferschema=True)\n",
    "    stop = time.perf_counter()\n",
    "    print(f'Data load with spark.read, elapsed time: {stop - start:0.2f}s')\n",
    "    print('Number of images in this fruits categories:', df_img.count())\n",
    "    print('An overview of the dataframe:')\n",
    "    df_img = df_img.withColumnRenamed(\"image\", \"path_image\")\n",
    "    df_img.show(5)\n",
    "    print(\"Display dataframe schema \")\n",
    "    df_img.printSchema()\n",
    "    return df_img"
   ]
  },
  {
   "cell_type": "markdown",
   "id": "73186f6d",
   "metadata": {},
   "source": [
    "Définissons le chemin S3 des images de la catégorie choisie:"
   ]
  },
  {
   "cell_type": "code",
   "execution_count": 23,
   "id": "793917bd",
   "metadata": {},
   "outputs": [
    {
     "data": {
      "text/plain": [
       "'s3a://olivierfruitsdataset/dataset_images/Clementine/'"
      ]
     },
     "execution_count": 23,
     "metadata": {},
     "output_type": "execute_result"
    }
   ],
   "source": [
    "path_image = \"s3a://olivierfruitsdataset/\" + fruit_category\n",
    "path_image"
   ]
  },
  {
   "cell_type": "markdown",
   "id": "0e4b0b30",
   "metadata": {},
   "source": [
    " Définissons le  spark dataframe des images:"
   ]
  },
  {
   "cell_type": "code",
   "execution_count": 65,
   "id": "81fe59d7",
   "metadata": {},
   "outputs": [
    {
     "name": "stdout",
     "output_type": "stream",
     "text": [
      "Data load with spark.read, elapsed time: 1.15s\n",
      "Number of images in this fruits categories: 490\n",
      "An overview of the dataframe:\n"
     ]
    },
    {
     "name": "stderr",
     "output_type": "stream",
     "text": [
      "\r",
      "[Stage 46:>                                                         (0 + 1) / 1]\r",
      "\r",
      "                                                                                \r"
     ]
    },
    {
     "name": "stdout",
     "output_type": "stream",
     "text": [
      "+--------------------+\n",
      "|          path_image|\n",
      "+--------------------+\n",
      "|{s3a://olivierfru...|\n",
      "|{s3a://olivierfru...|\n",
      "|{s3a://olivierfru...|\n",
      "|{s3a://olivierfru...|\n",
      "|{s3a://olivierfru...|\n",
      "+--------------------+\n",
      "only showing top 5 rows\n",
      "\n",
      "Display dataframe schema \n",
      "root\n",
      " |-- path_image: struct (nullable = true)\n",
      " |    |-- origin: string (nullable = true)\n",
      " |    |-- height: integer (nullable = true)\n",
      " |    |-- width: integer (nullable = true)\n",
      " |    |-- nChannels: integer (nullable = true)\n",
      " |    |-- mode: integer (nullable = true)\n",
      " |    |-- data: binary (nullable = true)\n",
      "\n"
     ]
    }
   ],
   "source": [
    "df_img = load_image(path_image)"
   ]
  },
  {
   "cell_type": "markdown",
   "id": "341b3adb",
   "metadata": {},
   "source": [
    "Un aperçu d'une image:"
   ]
  },
  {
   "cell_type": "code",
   "execution_count": 66,
   "id": "4b155964",
   "metadata": {},
   "outputs": [
    {
     "data": {
      "image/png": "[encoded data removed]",
      "text/plain": [
       "<PIL.Image.Image image mode=RGB size=100x100 at 0x7F6B4D6E8220>"
      ]
     },
     "execution_count": 66,
     "metadata": {},
     "output_type": "execute_result"
    }
   ],
   "source": [
    "ImageArray_first = ImageSchema.toNDArray(df_img.first()['path_image'])[:, :, ::-1]\n",
    "Image.fromarray(ImageArray_first)"
   ]
  },
  {
   "cell_type": "markdown",
   "id": "c3fbf013",
   "metadata": {},
   "source": [
    "### Extraction du label des images"
   ]
  },
  {
   "cell_type": "markdown",
   "id": "8a3854b8",
   "metadata": {},
   "source": [
    "Définissons une fonction pour extraire la categorie des images:"
   ]
  },
  {
   "cell_type": "code",
   "execution_count": 67,
   "id": "6b5ccf5d",
   "metadata": {},
   "outputs": [],
   "source": [
    "def label_extraction( df):\n",
    "    \"\"\"function to extract the category of images\"\"\"\n",
    "    df = df.withColumn('label',element_at(split(df['path_image.origin'], \"/\"), -2))\n",
    "    print('An overview of the dataframe:')\n",
    "    df.show(5)\n",
    "    return df\n",
    "    "
   ]
  },
  {
   "cell_type": "markdown",
   "id": "c6997f57",
   "metadata": {},
   "source": [
    "Extrayons le label des fruits et créons une feature label dans le spark dataframe :"
   ]
  },
  {
   "cell_type": "code",
   "execution_count": 68,
   "id": "d30cf7e2",
   "metadata": {},
   "outputs": [
    {
     "name": "stdout",
     "output_type": "stream",
     "text": [
      "An overview of the dataframe:\n"
     ]
    },
    {
     "name": "stderr",
     "output_type": "stream",
     "text": [
      "\r",
      "[Stage 48:>                                                         (0 + 1) / 1]\r"
     ]
    },
    {
     "name": "stdout",
     "output_type": "stream",
     "text": [
      "+--------------------+----------+\n",
      "|          path_image|     label|\n",
      "+--------------------+----------+\n",
      "|{s3a://olivierfru...|Clementine|\n",
      "|{s3a://olivierfru...|Clementine|\n",
      "|{s3a://olivierfru...|Clementine|\n",
      "|{s3a://olivierfru...|Clementine|\n",
      "|{s3a://olivierfru...|Clementine|\n",
      "+--------------------+----------+\n",
      "only showing top 5 rows\n",
      "\n"
     ]
    },
    {
     "name": "stderr",
     "output_type": "stream",
     "text": [
      "\r",
      "                                                                                \r"
     ]
    }
   ],
   "source": [
    "df_img = label_extraction(df_img)"
   ]
  },
  {
   "cell_type": "markdown",
   "id": "6a1d372b",
   "metadata": {},
   "source": [
    "### Matrice de pixels des images"
   ]
  },
  {
   "cell_type": "markdown",
   "id": "671633c8",
   "metadata": {},
   "source": [
    "Définissons des fonctions pour créer les matrices de pixels des images:"
   ]
  },
  {
   "cell_type": "code",
   "execution_count": 72,
   "id": "43c35f91",
   "metadata": {},
   "outputs": [],
   "source": [
    "def toNDArray(row):\n",
    "    '''Function to transform image in pixel matrix.'''\n",
    "    rowDict = row.asDict()\n",
    "    FlatArray = ImageSchema.toNDArray(rowDict.get('path_image'))[:, :, ::-1].ravel().tolist()\n",
    "    rowDict['FlatArray'] = FlatArray\n",
    "    return rowDict\n",
    "\n",
    "def dafaframeWithArray(df):\n",
    "    '''Function to add image's pixel matrix to the spark dataframe. '''\n",
    "    # Back to the root RDD format \n",
    "    df_imgRDD = df.rdd.map(toNDArray) \n",
    "    # update schema\n",
    "    inputSchema = df.schema\n",
    "    arraySchema = inputSchema.add('FlatArray', ArrayType(IntegerType()))\n",
    "    # Transform back into spark DataFrame\n",
    "    df = spark.createDataFrame(df_imgRDD, arraySchema)\n",
    "    return df"
   ]
  },
  {
   "cell_type": "markdown",
   "id": "16afbb0a",
   "metadata": {},
   "source": [
    "Définissons les matrices de pixels des images:"
   ]
  },
  {
   "cell_type": "code",
   "execution_count": 73,
   "id": "b8c17a1f",
   "metadata": {},
   "outputs": [],
   "source": [
    "df_img = dafaframeWithArray(df_img)"
   ]
  },
  {
   "cell_type": "markdown",
   "id": "c8c0bfbf",
   "metadata": {},
   "source": [
    "Un aperçu du dataframe:"
   ]
  },
  {
   "cell_type": "code",
   "execution_count": 76,
   "id": "10c6e880",
   "metadata": {},
   "outputs": [
    {
     "name": "stderr",
     "output_type": "stream",
     "text": [
      "\r",
      "[Stage 51:>                                                         (0 + 1) / 1]\r"
     ]
    },
    {
     "name": "stdout",
     "output_type": "stream",
     "text": [
      "+--------------------+----------+--------------------+\n",
      "|          path_image|     label|           FlatArray|\n",
      "+--------------------+----------+--------------------+\n",
      "|{s3a://olivierfru...|Clementine|[255, 255, 251, 2...|\n",
      "|{s3a://olivierfru...|Clementine|[252, 255, 255, 2...|\n",
      "|{s3a://olivierfru...|Clementine|[254, 254, 255, 2...|\n",
      "|{s3a://olivierfru...|Clementine|[255, 255, 251, 2...|\n",
      "|{s3a://olivierfru...|Clementine|[255, 255, 251, 2...|\n",
      "+--------------------+----------+--------------------+\n",
      "only showing top 5 rows\n",
      "\n"
     ]
    },
    {
     "name": "stderr",
     "output_type": "stream",
     "text": [
      "\r",
      "                                                                                \r"
     ]
    }
   ],
   "source": [
    "df_img.show(5)"
   ]
  },
  {
   "cell_type": "markdown",
   "id": "c34b5e1c",
   "metadata": {},
   "source": [
    "### Creation des features des images via CNN Transfer Learning"
   ]
  },
  {
   "cell_type": "markdown",
   "id": "680b3191",
   "metadata": {},
   "source": [
    "Pour extraire les features des images via le transfer learning, nous utilisons le model pre-entrainé VGG16 auquel nous éliminons la derniére couche relative à la classification des images:"
   ]
  },
  {
   "cell_type": "code",
   "execution_count": 57,
   "id": "1b526def",
   "metadata": {},
   "outputs": [],
   "source": [
    "vgg16 = VGG16(\n",
    "    include_top=False,\n",
    "    weights=None,\n",
    "    pooling='max',\n",
    "    input_shape=(100, 100, 3))"
   ]
  },
  {
   "cell_type": "markdown",
   "id": "c7ac2877",
   "metadata": {},
   "source": [
    "Vérifions que la dernière couche a été bien retirée:"
   ]
  },
  {
   "cell_type": "code",
   "execution_count": 58,
   "id": "c23475e5",
   "metadata": {},
   "outputs": [
    {
     "name": "stdout",
     "output_type": "stream",
     "text": [
      "Model: \"vgg16\"\n",
      "_________________________________________________________________\n",
      "Layer (type)                 Output Shape              Param #   \n",
      "=================================================================\n",
      "input_2 (InputLayer)         [(None, 100, 100, 3)]     0         \n",
      "_________________________________________________________________\n",
      "block1_conv1 (Conv2D)        (None, 100, 100, 64)      1792      \n",
      "_________________________________________________________________\n",
      "block1_conv2 (Conv2D)        (None, 100, 100, 64)      36928     \n",
      "_________________________________________________________________\n",
      "block1_pool (MaxPooling2D)   (None, 50, 50, 64)        0         \n",
      "_________________________________________________________________\n",
      "block2_conv1 (Conv2D)        (None, 50, 50, 128)       73856     \n",
      "_________________________________________________________________\n",
      "block2_conv2 (Conv2D)        (None, 50, 50, 128)       147584    \n",
      "_________________________________________________________________\n",
      "block2_pool (MaxPooling2D)   (None, 25, 25, 128)       0         \n",
      "_________________________________________________________________\n",
      "block3_conv1 (Conv2D)        (None, 25, 25, 256)       295168    \n",
      "_________________________________________________________________\n",
      "block3_conv2 (Conv2D)        (None, 25, 25, 256)       590080    \n",
      "_________________________________________________________________\n",
      "block3_conv3 (Conv2D)        (None, 25, 25, 256)       590080    \n",
      "_________________________________________________________________\n",
      "block3_pool (MaxPooling2D)   (None, 12, 12, 256)       0         \n",
      "_________________________________________________________________\n",
      "block4_conv1 (Conv2D)        (None, 12, 12, 512)       1180160   \n",
      "_________________________________________________________________\n",
      "block4_conv2 (Conv2D)        (None, 12, 12, 512)       2359808   \n",
      "_________________________________________________________________\n",
      "block4_conv3 (Conv2D)        (None, 12, 12, 512)       2359808   \n",
      "_________________________________________________________________\n",
      "block4_pool (MaxPooling2D)   (None, 6, 6, 512)         0         \n",
      "_________________________________________________________________\n",
      "block5_conv1 (Conv2D)        (None, 6, 6, 512)         2359808   \n",
      "_________________________________________________________________\n",
      "block5_conv2 (Conv2D)        (None, 6, 6, 512)         2359808   \n",
      "_________________________________________________________________\n",
      "block5_conv3 (Conv2D)        (None, 6, 6, 512)         2359808   \n",
      "_________________________________________________________________\n",
      "block5_pool (MaxPooling2D)   (None, 3, 3, 512)         0         \n",
      "_________________________________________________________________\n",
      "global_max_pooling2d_1 (Glob (None, 512)               0         \n",
      "=================================================================\n",
      "Total params: 14,714,688\n",
      "Trainable params: 14,714,688\n",
      "Non-trainable params: 0\n",
      "_________________________________________________________________\n"
     ]
    }
   ],
   "source": [
    "vgg16.summary()"
   ]
  },
  {
   "cell_type": "markdown",
   "id": "4f5c00cd",
   "metadata": {},
   "source": [
    "Définissons une fonction d'extraction des features des images de la ctégorie choisie via le model VGG16:"
   ]
  },
  {
   "cell_type": "code",
   "execution_count": 59,
   "id": "18d7047f",
   "metadata": {},
   "outputs": [],
   "source": [
    "def Featurizer(category,bucket):\n",
    "    \"\"\"Function to load the images of the chosen category\n",
    "    and extraction of features from images via the pre-trained model VGG16\"\"\"\n",
    "    start = time.perf_counter()\n",
    "    feat = []\n",
    "    for file in bucket.objects.filter(Prefix=category):\n",
    "        #load image\n",
    "        obj = bucket.Object(file.key)\n",
    "        label = file.key.split('/')[-2]\n",
    "        response = obj.get()\n",
    "        file_stream = response['Body']\n",
    "        img = Image.open(file_stream)\n",
    "        # convert image to flatten array\n",
    "        flat_array = np.array(img).ravel().tolist()\n",
    "        tensor = np.array(flat_array).reshape(1, 100, 100, 3).astype(np.uint8)\n",
    "        #  vgg 16 preprocess input\n",
    "        prep_tensor = preprocess_input(tensor)\n",
    "        # vgg16 extraction features\n",
    "        features = vgg16.predict(prep_tensor).ravel().tolist()\n",
    "        # Store file key, flat array and features\n",
    "        feat.append((features))\n",
    "    stop = time.perf_counter()\n",
    "    print(f'process, elapsed time: {stop - start:0.2f}s')\n",
    "    return feat"
   ]
  },
  {
   "cell_type": "markdown",
   "id": "1af3bef2",
   "metadata": {},
   "source": [
    "Extrayons les features des images:"
   ]
  },
  {
   "cell_type": "code",
   "execution_count": 77,
   "id": "5d61705d",
   "metadata": {},
   "outputs": [
    {
     "name": "stdout",
     "output_type": "stream",
     "text": [
      "process, elapsed time: 105.03s\n"
     ]
    }
   ],
   "source": [
    "fruits_bucket = s3.Bucket('olivierfruitsdataset')\n",
    "features = Featurizer(fruit_category,fruits_bucket)"
   ]
  },
  {
   "cell_type": "markdown",
   "id": "af90ba6f",
   "metadata": {},
   "source": [
    "Créons une colonne relative au features extraites via VGG16 dans notre dataframe initiale:"
   ]
  },
  {
   "cell_type": "code",
   "execution_count": 78,
   "id": "9c1799c0",
   "metadata": {},
   "outputs": [
    {
     "name": "stderr",
     "output_type": "stream",
     "text": [
      "                                                                                \r"
     ]
    },
    {
     "name": "stdout",
     "output_type": "stream",
     "text": [
      "+--------------------+----------+--------------------+--------------------+\n",
      "|          path_image|     label|           FlatArray|      vgg16_features|\n",
      "+--------------------+----------+--------------------+--------------------+\n",
      "|{s3a://olivierfru...|Clementine|[255, 255, 251, 2...|[0.21111831068992...|\n",
      "|{s3a://olivierfru...|Clementine|[252, 255, 255, 2...|[0.20654268562793...|\n",
      "|{s3a://olivierfru...|Clementine|[254, 254, 255, 2...|[0.20929270982742...|\n",
      "|{s3a://olivierfru...|Clementine|[255, 255, 251, 2...|[0.20046141743659...|\n",
      "|{s3a://olivierfru...|Clementine|[255, 255, 251, 2...|[0.20970527827739...|\n",
      "+--------------------+----------+--------------------+--------------------+\n",
      "only showing top 5 rows\n",
      "\n"
     ]
    }
   ],
   "source": [
    "df_2 = spark.createDataFrame([(l,) for l in features], ['vgg16_features'])\n",
    "df_1 = df_img.withColumn(\"row_idx\", row_number().over(Window.orderBy(monotonically_increasing_id())))\n",
    "df_2 = df_2.withColumn(\"row_idx\", row_number().over(Window.orderBy(monotonically_increasing_id())))\n",
    "df_img = df_1.join(df_2, df_1.row_idx == df_2.row_idx).drop(\"row_idx\")\n",
    "df_img.show(5)"
   ]
  },
  {
   "cell_type": "markdown",
   "id": "44deee7d",
   "metadata": {},
   "source": [
    "### Reduction de la dimension via PCA"
   ]
  },
  {
   "cell_type": "markdown",
   "id": "71fb7ef4",
   "metadata": {},
   "source": [
    "Nous allons effectuer une réduction PCA pour réduire la dimension des features extraites:"
   ]
  },
  {
   "cell_type": "markdown",
   "id": "2bbe16d3",
   "metadata": {},
   "source": [
    "Tout dabord, transformons array en vecteurs utilisables pour la la fonction de réduction PCA: "
   ]
  },
  {
   "cell_type": "code",
   "execution_count": 79,
   "id": "ce862483",
   "metadata": {},
   "outputs": [
    {
     "name": "stderr",
     "output_type": "stream",
     "text": [
      "[Stage 63:>                                                         (0 + 1) / 1]\r"
     ]
    },
    {
     "name": "stdout",
     "output_type": "stream",
     "text": [
      "+--------------------+----------+--------------------+--------------------+--------------------+\n",
      "|          path_image|     label|           FlatArray|      vgg16_features|       vgg16_vectors|\n",
      "+--------------------+----------+--------------------+--------------------+--------------------+\n",
      "|{s3a://olivierfru...|Clementine|[255, 255, 251, 2...|[0.21111831068992...|[0.21111831068992...|\n",
      "|{s3a://olivierfru...|Clementine|[252, 255, 255, 2...|[0.20654268562793...|[0.20654268562793...|\n",
      "|{s3a://olivierfru...|Clementine|[254, 254, 255, 2...|[0.20929270982742...|[0.20929270982742...|\n",
      "|{s3a://olivierfru...|Clementine|[255, 255, 251, 2...|[0.20046141743659...|[0.20046141743659...|\n",
      "|{s3a://olivierfru...|Clementine|[255, 255, 251, 2...|[0.20970527827739...|[0.20970527827739...|\n",
      "+--------------------+----------+--------------------+--------------------+--------------------+\n",
      "only showing top 5 rows\n",
      "\n"
     ]
    },
    {
     "name": "stderr",
     "output_type": "stream",
     "text": [
      "\r",
      "                                                                                \r"
     ]
    }
   ],
   "source": [
    "array_to_vector_udf = udf(lambda l: Vectors.dense(l), VectorUDT())\n",
    "df_img = df_img.withColumn('vgg16_vectors', array_to_vector_udf('vgg16_features'))\n",
    "df_img.show(5, True)"
   ]
  },
  {
   "cell_type": "markdown",
   "id": "546b8bbd",
   "metadata": {},
   "source": [
    "Effectuons une réduction PCA pour reduire la  dimension, tout en choisissant un k assez grand pour determiner un nombre adéquant de composantes principales:"
   ]
  },
  {
   "cell_type": "code",
   "execution_count": 80,
   "id": "b9327c4c",
   "metadata": {},
   "outputs": [
    {
     "name": "stderr",
     "output_type": "stream",
     "text": [
      "                                                                                \r"
     ]
    },
    {
     "name": "stdout",
     "output_type": "stream",
     "text": [
      "pca - fit best k nb, elapsed time: 89.18s\n"
     ]
    }
   ],
   "source": [
    "start = time.perf_counter()\n",
    "pca = PCA(k=20, inputCol='vgg16_vectors', outputCol='pca_vectors')\n",
    "model = pca.fit(df_img)\n",
    "stop = time.perf_counter()\n",
    "print(f'pca - fit best k nb, elapsed time: {stop - start:0.2f}s')"
   ]
  },
  {
   "cell_type": "markdown",
   "id": "4068472c",
   "metadata": {},
   "source": [
    "Appliquons la réduction PCA:"
   ]
  },
  {
   "cell_type": "code",
   "execution_count": 81,
   "id": "914a0932",
   "metadata": {},
   "outputs": [
    {
     "name": "stdout",
     "output_type": "stream",
     "text": [
      "pca - application, elapsed time: 0.39s\n"
     ]
    }
   ],
   "source": [
    "start = time.perf_counter()\n",
    "df_img = model.transform(df_img)\n",
    "stop = time.perf_counter()\n",
    "print(f'pca - application, elapsed time: {stop - start:0.2f}s')"
   ]
  },
  {
   "cell_type": "markdown",
   "id": "79e3c3d2",
   "metadata": {},
   "source": [
    "Un aperçu du nouveau dataframe:"
   ]
  },
  {
   "cell_type": "code",
   "execution_count": 82,
   "id": "50a70673",
   "metadata": {},
   "outputs": [
    {
     "name": "stderr",
     "output_type": "stream",
     "text": [
      "                                                                                \r"
     ]
    },
    {
     "data": {
      "text/html": [
       "<table border='1'>\n",
       "<tr><th>path_image</th><th>label</th><th>FlatArray</th><th>vgg16_features</th><th>vgg16_vectors</th><th>pca_vectors</th></tr>\n",
       "<tr><td>{s3a://olivierfru...</td><td>Clementine</td><td>[255, 255, 251, 2...</td><td>[0.21111831068992...</td><td>[0.21111831068992...</td><td>[6.35642841952407...</td></tr>\n",
       "<tr><td>{s3a://olivierfru...</td><td>Clementine</td><td>[252, 255, 255, 2...</td><td>[0.20654268562793...</td><td>[0.20654268562793...</td><td>[6.38583474133162...</td></tr>\n",
       "<tr><td>{s3a://olivierfru...</td><td>Clementine</td><td>[254, 254, 255, 2...</td><td>[0.20929270982742...</td><td>[0.20929270982742...</td><td>[6.38318935983280...</td></tr>\n",
       "<tr><td>{s3a://olivierfru...</td><td>Clementine</td><td>[255, 255, 251, 2...</td><td>[0.20046141743659...</td><td>[0.20046141743659...</td><td>[6.41948457230706...</td></tr>\n",
       "<tr><td>{s3a://olivierfru...</td><td>Clementine</td><td>[255, 255, 251, 2...</td><td>[0.20970527827739...</td><td>[0.20970527827739...</td><td>[6.38689130078634...</td></tr>\n",
       "</table>\n"
      ],
      "text/plain": [
       "+--------------------+----------+--------------------+--------------------+--------------------+--------------------+\n",
       "|          path_image|     label|           FlatArray|      vgg16_features|       vgg16_vectors|         pca_vectors|\n",
       "+--------------------+----------+--------------------+--------------------+--------------------+--------------------+\n",
       "|{s3a://olivierfru...|Clementine|[255, 255, 251, 2...|[0.21111831068992...|[0.21111831068992...|[6.35642841952407...|\n",
       "|{s3a://olivierfru...|Clementine|[252, 255, 255, 2...|[0.20654268562793...|[0.20654268562793...|[6.38583474133162...|\n",
       "|{s3a://olivierfru...|Clementine|[254, 254, 255, 2...|[0.20929270982742...|[0.20929270982742...|[6.38318935983280...|\n",
       "|{s3a://olivierfru...|Clementine|[255, 255, 251, 2...|[0.20046141743659...|[0.20046141743659...|[6.41948457230706...|\n",
       "|{s3a://olivierfru...|Clementine|[255, 255, 251, 2...|[0.20970527827739...|[0.20970527827739...|[6.38689130078634...|\n",
       "+--------------------+----------+--------------------+--------------------+--------------------+--------------------+"
      ]
     },
     "execution_count": 82,
     "metadata": {},
     "output_type": "execute_result"
    }
   ],
   "source": [
    "spark.conf.set('spark.sql.repl.eagerEval.enabled', True)\n",
    "df_img.limit(5)"
   ]
  },
  {
   "cell_type": "markdown",
   "id": "a5f0a4e0",
   "metadata": {},
   "source": [
    "Transformons les vecteurs PCA en array:"
   ]
  },
  {
   "cell_type": "code",
   "execution_count": 83,
   "id": "f4e584ea",
   "metadata": {},
   "outputs": [
    {
     "name": "stderr",
     "output_type": "stream",
     "text": [
      "                                                                                \r"
     ]
    },
    {
     "data": {
      "text/html": [
       "<table border='1'>\n",
       "<tr><th>path_image</th><th>label</th><th>FlatArray</th><th>vgg16_features</th><th>vgg16_vectors</th><th>pca_vectors</th><th>pca_features</th></tr>\n",
       "<tr><td>{s3a://olivierfru...</td><td>Clementine</td><td>[255, 255, 251, 2...</td><td>[0.21111831068992...</td><td>[0.21111831068992...</td><td>[6.35642841952407...</td><td>[6.3564286, 1.438...</td></tr>\n",
       "<tr><td>{s3a://olivierfru...</td><td>Clementine</td><td>[252, 255, 255, 2...</td><td>[0.20654268562793...</td><td>[0.20654268562793...</td><td>[6.38583474133162...</td><td>[6.3858347, 1.476...</td></tr>\n",
       "<tr><td>{s3a://olivierfru...</td><td>Clementine</td><td>[254, 254, 255, 2...</td><td>[0.20929270982742...</td><td>[0.20929270982742...</td><td>[6.38318935983280...</td><td>[6.383189, 1.4798...</td></tr>\n",
       "<tr><td>{s3a://olivierfru...</td><td>Clementine</td><td>[255, 255, 251, 2...</td><td>[0.20046141743659...</td><td>[0.20046141743659...</td><td>[6.41948457230706...</td><td>[6.4194846, 1.425...</td></tr>\n",
       "<tr><td>{s3a://olivierfru...</td><td>Clementine</td><td>[255, 255, 251, 2...</td><td>[0.20970527827739...</td><td>[0.20970527827739...</td><td>[6.38689130078634...</td><td>[6.3868914, 1.476...</td></tr>\n",
       "</table>\n"
      ],
      "text/plain": [
       "+--------------------+----------+--------------------+--------------------+--------------------+--------------------+--------------------+\n",
       "|          path_image|     label|           FlatArray|      vgg16_features|       vgg16_vectors|         pca_vectors|        pca_features|\n",
       "+--------------------+----------+--------------------+--------------------+--------------------+--------------------+--------------------+\n",
       "|{s3a://olivierfru...|Clementine|[255, 255, 251, 2...|[0.21111831068992...|[0.21111831068992...|[6.35642841952407...|[6.3564286, 1.438...|\n",
       "|{s3a://olivierfru...|Clementine|[252, 255, 255, 2...|[0.20654268562793...|[0.20654268562793...|[6.38583474133162...|[6.3858347, 1.476...|\n",
       "|{s3a://olivierfru...|Clementine|[254, 254, 255, 2...|[0.20929270982742...|[0.20929270982742...|[6.38318935983280...|[6.383189, 1.4798...|\n",
       "|{s3a://olivierfru...|Clementine|[255, 255, 251, 2...|[0.20046141743659...|[0.20046141743659...|[6.41948457230706...|[6.4194846, 1.425...|\n",
       "|{s3a://olivierfru...|Clementine|[255, 255, 251, 2...|[0.20970527827739...|[0.20970527827739...|[6.38689130078634...|[6.3868914, 1.476...|\n",
       "+--------------------+----------+--------------------+--------------------+--------------------+--------------------+--------------------+"
      ]
     },
     "execution_count": 83,
     "metadata": {},
     "output_type": "execute_result"
    }
   ],
   "source": [
    "vector_to_array_udf = udf(lambda v: v.toArray().tolist(), ArrayType(FloatType()))\n",
    "df_img = df_img.withColumn('pca_features', vector_to_array_udf('pca_vectors'))\n",
    "df_img.limit(5)"
   ]
  },
  {
   "cell_type": "markdown",
   "id": "50e9d296",
   "metadata": {},
   "source": [
    "### Sauvegarde  des resultats dans S3\n"
   ]
  },
  {
   "cell_type": "markdown",
   "id": "58a406f5",
   "metadata": {},
   "source": [
    "Sauvegardons les fichiers crées dans S3 en utlisant les fichiers de type \"parquet\":"
   ]
  },
  {
   "cell_type": "code",
   "execution_count": 84,
   "id": "69425d78",
   "metadata": {},
   "outputs": [
    {
     "name": "stderr",
     "output_type": "stream",
     "text": [
      "                                                                                \r"
     ]
    },
    {
     "name": "stdout",
     "output_type": "stream",
     "text": [
      "S3 save, elapsed time: 103.98s\n"
     ]
    }
   ],
   "source": [
    "start = time.perf_counter()\n",
    "df_img.write.format(\"parquet\").mode('overwrite').save('s3a://olivierfruitsdataset/results_parquet')\n",
    "stop = time.perf_counter()\n",
    "print(f'S3 save, elapsed time: {stop - start:0.2f}s')"
   ]
  },
  {
   "cell_type": "markdown",
   "id": "fb6c540a",
   "metadata": {},
   "source": [
    "### Lectures des données sauvegardées"
   ]
  },
  {
   "cell_type": "markdown",
   "id": "5450e422",
   "metadata": {},
   "source": [
    "Chargeons depuis S3 les fichiers sauvegardés:"
   ]
  },
  {
   "cell_type": "code",
   "execution_count": 85,
   "id": "4c739b11",
   "metadata": {},
   "outputs": [
    {
     "name": "stdout",
     "output_type": "stream",
     "text": [
      "S3 load, elapsed time: 0.74s\n"
     ]
    }
   ],
   "source": [
    "start = time.perf_counter()\n",
    "df_parquet = spark.read.format('parquet').load('s3a://olivierfruitsdataset/results_parquet')\n",
    "stop = time.perf_counter()\n",
    "print(f'S3 load, elapsed time: {stop - start:0.2f}s')"
   ]
  },
  {
   "cell_type": "markdown",
   "id": "2f858b07",
   "metadata": {},
   "source": [
    "Un aperçu du dataframe relatif aux fichiers sauvegardés:"
   ]
  },
  {
   "cell_type": "code",
   "execution_count": 86,
   "id": "a2d5082f",
   "metadata": {},
   "outputs": [
    {
     "name": "stderr",
     "output_type": "stream",
     "text": [
      "                                                                                \r"
     ]
    },
    {
     "data": {
      "text/html": [
       "<table border='1'>\n",
       "<tr><th>path_image</th><th>label</th><th>FlatArray</th><th>vgg16_features</th><th>vgg16_vectors</th><th>pca_vectors</th><th>pca_features</th></tr>\n",
       "<tr><td>{s3a://olivierfru...</td><td>Clementine</td><td>[255, 255, 251, 2...</td><td>[0.21111831068992...</td><td>[0.21111831068992...</td><td>[6.35642841952407...</td><td>[6.3564286, 1.438...</td></tr>\n",
       "<tr><td>{s3a://olivierfru...</td><td>Clementine</td><td>[252, 255, 255, 2...</td><td>[0.20654268562793...</td><td>[0.20654268562793...</td><td>[6.38583474133162...</td><td>[6.3858347, 1.476...</td></tr>\n",
       "<tr><td>{s3a://olivierfru...</td><td>Clementine</td><td>[254, 254, 255, 2...</td><td>[0.20929270982742...</td><td>[0.20929270982742...</td><td>[6.38318935983280...</td><td>[6.383189, 1.4798...</td></tr>\n",
       "<tr><td>{s3a://olivierfru...</td><td>Clementine</td><td>[255, 255, 251, 2...</td><td>[0.20046141743659...</td><td>[0.20046141743659...</td><td>[6.41948457230706...</td><td>[6.4194846, 1.425...</td></tr>\n",
       "<tr><td>{s3a://olivierfru...</td><td>Clementine</td><td>[255, 255, 251, 2...</td><td>[0.20970527827739...</td><td>[0.20970527827739...</td><td>[6.38689130078634...</td><td>[6.3868914, 1.476...</td></tr>\n",
       "</table>\n"
      ],
      "text/plain": [
       "+--------------------+----------+--------------------+--------------------+--------------------+--------------------+--------------------+\n",
       "|          path_image|     label|           FlatArray|      vgg16_features|       vgg16_vectors|         pca_vectors|        pca_features|\n",
       "+--------------------+----------+--------------------+--------------------+--------------------+--------------------+--------------------+\n",
       "|{s3a://olivierfru...|Clementine|[255, 255, 251, 2...|[0.21111831068992...|[0.21111831068992...|[6.35642841952407...|[6.3564286, 1.438...|\n",
       "|{s3a://olivierfru...|Clementine|[252, 255, 255, 2...|[0.20654268562793...|[0.20654268562793...|[6.38583474133162...|[6.3858347, 1.476...|\n",
       "|{s3a://olivierfru...|Clementine|[254, 254, 255, 2...|[0.20929270982742...|[0.20929270982742...|[6.38318935983280...|[6.383189, 1.4798...|\n",
       "|{s3a://olivierfru...|Clementine|[255, 255, 251, 2...|[0.20046141743659...|[0.20046141743659...|[6.41948457230706...|[6.4194846, 1.425...|\n",
       "|{s3a://olivierfru...|Clementine|[255, 255, 251, 2...|[0.20970527827739...|[0.20970527827739...|[6.38689130078634...|[6.3868914, 1.476...|\n",
       "+--------------------+----------+--------------------+--------------------+--------------------+--------------------+--------------------+"
      ]
     },
     "execution_count": 86,
     "metadata": {},
     "output_type": "execute_result"
    }
   ],
   "source": [
    "df_parquet.limit(5)"
   ]
  },
  {
   "cell_type": "code",
   "execution_count": null,
   "id": "32ab574f",
   "metadata": {},
   "outputs": [],
   "source": []
  }
 ],
 "metadata": {
  "kernelspec": {
   "display_name": "Python 3 (ipykernel)",
   "language": "python",
   "name": "python3"
  },
  "language_info": {
   "codemirror_mode": {
    "name": "ipython",
    "version": 3
   },
   "file_extension": ".py",
   "mimetype": "text/x-python",
   "name": "python",
   "nbconvert_exporter": "python",
   "pygments_lexer": "ipython3",
   "version": "3.9.12"
  }
 },
 "nbformat": 4,
 "nbformat_minor": 5
}
